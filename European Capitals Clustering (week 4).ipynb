{
 "cells": [
  {
   "cell_type": "markdown",
   "metadata": {},
   "source": [
    "***\n",
    "<h1>European Capitals Clustering</h1>\n",
    "<h2>Coursera Capstone Final Project (week 4)</h2>\n",
    "\n",
    "**Author: Ivan Letal**\n",
    "\n",
    "Date: 2018/11/06\n",
    "***"
   ]
  },
  {
   "cell_type": "markdown",
   "metadata": {},
   "source": [
    "<p><img src=\"https://ec.europa.eu/programmes/creative-europe/sites/creative-europe/files/actions-capitals-culture.png\" width=\"450\">"
   ]
  },
  {
   "cell_type": "markdown",
   "metadata": {},
   "source": [
    "<h1>Introduction</h1>\n",
    "\n",
    "The culture of Europe is rooted in the art, architecture, film, different types of music, literature, and philosophy that originated from the continent of Europe. \n",
    "\n",
    "European culture is largely rooted in what is often referred to as its \"common cultural heritage\". Because of the great number of perspectives which can be taken on the subject, it is impossible to form a single, all-embracing conception of European culture. Nonetheless, there are core elements which are generally agreed upon as forming the cultural foundation of modern Europe. \n",
    "\n",
    "If I could describe European culture in few words, I would say Art, Architecture, Music, Science, Cuisine. "
   ]
  },
  {
   "cell_type": "markdown",
   "metadata": {},
   "source": [
    "<h1>Objective</h1>\n",
    "\n",
    "In this project, I will focus only on capital cities in Europe, as we can assume that they well represent their countries and nations' culture.\n",
    "\n",
    "Using Machine Learning (clustering) I will put capitals in clusters to determine:\n",
    "<br>\n",
    "* Similarity or dissimilarity of the cities from cultural point of view\n",
    "* Classification of capitals into clusters and their visualization\n",
    "\n",
    "Now, for the sake of the project, I will not focus on cuisine (food and restaurants) to describe the culture, because the data I have mostly contain commercial venues that would have significant impact on comparison. The data I use contain various type of restaurants, who knows Europe will know that nowadays you can find all different types of kitchen in every European country.\n",
    "\n",
    "As a tourist, you might find this information useful, for example, if you liked Prague (Czech Republic) you might as well like Berlin (Germany)."
   ]
  },
  {
   "cell_type": "markdown",
   "metadata": {},
   "source": [
    "<h1>Data</h1>\n",
    "\n",
    "The data come from Wikipedia, listing European countries and their capitals. This is pretty straightforward.\n",
    "\n",
    "https://simple.wikipedia.org/wiki/List_of_European_countries"
   ]
  },
  {
   "cell_type": "markdown",
   "metadata": {},
   "source": [
    "<p><img src=\"1.PNG\">"
   ]
  },
  {
   "cell_type": "markdown",
   "metadata": {},
   "source": [
    "To complement the data with geolocations like latitude and longitude, I use Geopy libraries that pulls data from Nominatim. \n",
    "Geopy makes it easy for Python developers to locate the coordinates of addresses, cities, countries, and landmarks across the globe using third-party geocoders and other data sources.\n",
    "\n",
    "https://geopy.readthedocs.io\n",
    "https://nominatim.openstreetmap.org/"
   ]
  },
  {
   "cell_type": "markdown",
   "metadata": {},
   "source": [
    "<p><img src=\"2.PNG\">"
   ]
  },
  {
   "cell_type": "markdown",
   "metadata": {},
   "source": [
    "The last but not least are data from Foursquare that I access through API. \n",
    "\n",
    "https://foursquare.com/\n",
    "\n",
    "The problem with these data I touched in the Objective section, accuracy of data captured can't determine 100% correct classification in real world. \n",
    "\n",
    "But the data are sufficient for this project and study."
   ]
  },
  {
   "cell_type": "markdown",
   "metadata": {},
   "source": [
    "<p><img src=\"3.PNG\">"
   ]
  },
  {
   "cell_type": "markdown",
   "metadata": {},
   "source": [
    "For comparison, I find the text cloud the best.\n",
    "\n",
    "As you can see, Berlin and Prague are similar cities. At least from view of culture. What connects them are: Museum, Theatre, Art, Opera, Concert, Architecture.\n",
    "\n",
    "But in the project (week 5) I will show in detail how Machine Learning evaluates the clusters."
   ]
  },
  {
   "cell_type": "markdown",
   "metadata": {},
   "source": [
    "<p><img src=\"8.PNG\">"
   ]
  }
 ],
 "metadata": {
  "kernelspec": {
   "display_name": "Python 3",
   "language": "python",
   "name": "python3"
  },
  "language_info": {
   "codemirror_mode": {
    "name": "ipython",
    "version": 3
   },
   "file_extension": ".py",
   "mimetype": "text/x-python",
   "name": "python",
   "nbconvert_exporter": "python",
   "pygments_lexer": "ipython3",
   "version": "3.6.6"
  }
 },
 "nbformat": 4,
 "nbformat_minor": 2
}
