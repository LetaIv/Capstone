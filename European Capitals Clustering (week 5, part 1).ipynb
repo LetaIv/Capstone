{
 "cells": [
  {
   "cell_type": "markdown",
   "metadata": {},
   "source": [
    "***\n",
    "<h1>European Capitals Clustering</h1>\n",
    "<h2>Coursera Capstone Final Project (week 5, part 1)</h2>\n",
    "\n",
    "**Author: Ivan Letal**\n",
    "\n",
    "Date: 2018/11/06\n",
    "***"
   ]
  },
  {
   "cell_type": "markdown",
   "metadata": {},
   "source": [
    "<p><img src=\"https://ec.europa.eu/programmes/creative-europe/sites/creative-europe/files/actions-capitals-culture.png\" width=\"450\">"
   ]
  },
  {
   "cell_type": "markdown",
   "metadata": {},
   "source": [
    "<h1>Introduction</h1>\n",
    "\n",
    "The culture of Europe is rooted in the art, architecture, film, different types of music, literature, and philosophy that originated from the continent of Europe. \n",
    "\n",
    "European culture is largely rooted in what is often referred to as its \"common cultural heritage\". Because of the great number of perspectives which can be taken on the subject, it is impossible to form a single, all-embracing conception of European culture. Nonetheless, there are core elements which are generally agreed upon as forming the cultural foundation of modern Europe. \n",
    "\n",
    "If I could describe European culture in few words, I would say Art, Architecture, Music, Science, Cuisine. "
   ]
  },
  {
   "cell_type": "markdown",
   "metadata": {},
   "source": [
    "<h1>Objective</h1>\n",
    "\n",
    "In this project, I will focus only on capital cities in Europe, as we can assume that they well represent their countries and nations' culture.\n",
    "\n",
    "Using Machine Learning (clustering) I will put capitals in clusters to determine:\n",
    "<br>\n",
    "* Similarity or dissimilarity of the cities from cultural point of view\n",
    "* Classification of capitals into clusters and their visualization\n",
    "\n",
    "Now, for the sake of the project, I will not focus on cuisine (food and restaurants) to describe the culture, because the data I have mostly contain commercial venues that would have significant impact on comparison. The data I use contain various type of restaurants, who knows Europe will know that nowadays you can find all different types of kitchen in every European country.\n",
    "\n",
    "As a tourist, you might find this information useful, for example, if you liked Prague (Czech Republic) you might as well like Berlin (Germany).\n",
    "\n",
    "You can also use the model as a travel agent to recommend your customers different places to visit."
   ]
  },
  {
   "cell_type": "markdown",
   "metadata": {},
   "source": [
    "<h1>Data</h1>\n",
    "\n",
    "The data come from Wikipedia, listing European countries and their capitals. This is pretty straightforward.\n",
    "\n",
    "https://simple.wikipedia.org/wiki/List_of_European_countries"
   ]
  },
  {
   "cell_type": "markdown",
   "metadata": {},
   "source": [
    "<p><img src=\"1.PNG\">"
   ]
  },
  {
   "cell_type": "markdown",
   "metadata": {},
   "source": [
    "To complement the data with geolocations like latitude and longitude, I use Geopy libraries that pulls data from Nominatim. \n",
    "Geopy makes it easy for Python developers to locate the coordinates of addresses, cities, countries, and landmarks across the globe using third-party geocoders and other data sources.\n",
    "\n",
    "https://geopy.readthedocs.io\n",
    "https://nominatim.openstreetmap.org/"
   ]
  },
  {
   "cell_type": "markdown",
   "metadata": {},
   "source": [
    "<p><img src=\"2.PNG\" width=\"700\">"
   ]
  },
  {
   "cell_type": "markdown",
   "metadata": {},
   "source": [
    "The last but not least are data from Foursquare that I access through API. \n",
    "\n",
    "https://foursquare.com/\n",
    "\n",
    "The problem with these data I touched in the Objective section, accuracy of data captured can't determine 100% correct classification in real world. \n",
    "\n",
    "But the data are sufficient for this project and study."
   ]
  },
  {
   "cell_type": "markdown",
   "metadata": {},
   "source": [
    "<p><img src=\"3.PNG\">"
   ]
  },
  {
   "cell_type": "markdown",
   "metadata": {},
   "source": [
    "For comparison, I find the text cloud the best.\n",
    "\n",
    "But in the project (week 5) I will show in detail how Machine Learning evaluates the clusters."
   ]
  },
  {
   "cell_type": "markdown",
   "metadata": {},
   "source": [
    "<h1>Methodology</h1>"
   ]
  },
  {
   "cell_type": "markdown",
   "metadata": {},
   "source": [
    "The data from Wikipedia are scrapped using BeautifulSoup (Python). After that, the data are converted to Pandas (Python) DataFrame and geolocations (from Nominatim's OpenStreetMaps) are added using Geopy (Python). Using FourSquare data, I explore neighborhoods of listed cities for their most frequent venues, converting them to OneHot dataframe and merge with the capital cities data. \n",
    "\n",
    "**Using Machine Learning classification method K-Means, I will classify capital cities into clusters.** Finally, each cluster is inspected for typical venue categories that I will present using Word Cluster visualization method."
   ]
  },
  {
   "cell_type": "markdown",
   "metadata": {},
   "source": [
    "<h1>Results</h1>"
   ]
  },
  {
   "cell_type": "markdown",
   "metadata": {},
   "source": [
    "Using the K-Means methodology, the capital cities were divided into ten clusters and displayed on Folium Map (Python).\n",
    "\n",
    "With geolocations added, various colors indicate belonging to a cluster."
   ]
  },
  {
   "cell_type": "markdown",
   "metadata": {},
   "source": [
    "<p><img src=\"4.PNG\" width=\"700\">"
   ]
  },
  {
   "cell_type": "markdown",
   "metadata": {},
   "source": [
    "Not that geolocations of cluster centroids are any useful here, but for the sake of study purpose we can display centroids on a Folium Map (Python)."
   ]
  },
  {
   "cell_type": "markdown",
   "metadata": {},
   "source": [
    "<p><img src=\"5.PNG\" width=\"700\">"
   ]
  },
  {
   "cell_type": "markdown",
   "metadata": {},
   "source": [
    "FourSquare is very useful to explore each city for venues and categorizing them. For example first ten rows of capital Prague (Czech Republic) will give overview of what venues you can expect in the city."
   ]
  },
  {
   "cell_type": "markdown",
   "metadata": {},
   "source": [
    "<p><img src=\"6.PNG\" width=\"700\">"
   ]
  },
  {
   "cell_type": "markdown",
   "metadata": {},
   "source": [
    "Let's use World Cloud to describe similar cities that were discovered using the described method and classified into the same cluster by K-Means (Machine Learning algorithm).\n",
    "\n",
    "As you can see, Berlin and Prague are similar cities. At least from view of culture. What connects them are: Museum, Theatre, Art, Opera, Concert, Architecture."
   ]
  },
  {
   "cell_type": "markdown",
   "metadata": {},
   "source": [
    "<p><img src=\"8.PNG\" width=\"700\">"
   ]
  },
  {
   "cell_type": "markdown",
   "metadata": {},
   "source": [
    "<h1>Discussion</h1>"
   ]
  },
  {
   "cell_type": "markdown",
   "metadata": {},
   "source": [
    "K-Means method works well for classification of capital cities. What is debatable are the FourSquare data, as for the project I excluded venues that fall into category of cuisine, food and restaurants. The data that fall into category 'Fun', 'Art' and 'Culture' are considered. From this dataset, the most common venues categories are used for clustering hence comparing two or more cities.\n",
    "\n",
    "To claim an objective classification you need to understand the data and it takes little experimenting find out the best K for K-Means algorithm, but that's well known problem.\n",
    "\n",
    "What is especially challenging is tuning the FourSquare data, it very much depends on how you limit the query (API method) and what radius in meters you use. For instance, tiny Vatican City does not contain many venues in the same city radius that was used e.g. for large city of Paris.\n",
    "\n",
    "Also as you could observe, countries that are not typical in European are considered, that's because part their region is technically in Europe. For example Russia, Turkey, etc.. However, this is valid assumption."
   ]
  },
  {
   "cell_type": "markdown",
   "metadata": {},
   "source": [
    "<h1>Conclusion</h1>"
   ]
  },
  {
   "cell_type": "markdown",
   "metadata": {},
   "source": [
    "FourSquare API is very powerful if used correctly, its advantage is that people use it all around the world. I prefer discussion thread for every venue to learn references when I am looking for trying something new.\n",
    "\n",
    "Using the described method, I learned that Prague, Berlin, Paris but also Kiev are similar cities in terms of culture, what people like and historic architecture. I have never been in the last 3 out of 4, so I might give it a chance.\n",
    "\n",
    "One interesting thing that I found using K-Means (K=5) and all venue categories unfiltered, I found that Dublin (capital of Ireland) is an outliner because of vast existence of beer pubs."
   ]
  }
 ],
 "metadata": {
  "kernelspec": {
   "display_name": "Python 3",
   "language": "python",
   "name": "python3"
  },
  "language_info": {
   "codemirror_mode": {
    "name": "ipython",
    "version": 3
   },
   "file_extension": ".py",
   "mimetype": "text/x-python",
   "name": "python",
   "nbconvert_exporter": "python",
   "pygments_lexer": "ipython3",
   "version": "3.6.6"
  }
 },
 "nbformat": 4,
 "nbformat_minor": 2
}
